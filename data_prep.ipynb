{
 "cells": [
  {
   "cell_type": "code",
   "execution_count": 1,
   "id": "91630305",
   "metadata": {},
   "outputs": [],
   "source": [
    "import pandas as pd\n",
    "from sklearn.preprocessing import StandardScaler\n",
    "from IPython.display import display"
   ]
  },
  {
   "cell_type": "markdown",
   "id": "45d9cc6a",
   "metadata": {},
   "source": [
    "## Fill Gaps by average of neighbors\n"
   ]
  },
  {
   "cell_type": "code",
   "execution_count": 2,
   "id": "f75fd952",
   "metadata": {},
   "outputs": [
    {
     "name": "stdout",
     "output_type": "stream",
     "text": [
      "Cleaned data saved with shape: (2515, 469)\n"
     ]
    }
   ],
   "source": [
    "\n",
    "# 1) Load the raw CSV (make sure this path matches where you saved it)\n",
    "prices_raw = pd.read_csv(\"data/sp500_prices_raw.csv\", index_col=0, parse_dates=True)\n",
    "\n",
    "\n",
    "# 2) Compute coverage and drop low‐coverage tickers\n",
    "coverage = prices_raw.count() / len(prices_raw)\n",
    "keep = coverage[coverage >= 0.95].index\n",
    "prices_filt = prices_raw[keep]\n",
    "\n",
    "# 3) Fill isolated gaps (average of neighbors)\n",
    "def fill_iso(s):\n",
    "    for i in range(1, len(s)-1):\n",
    "        if pd.isna(s.iat[i]):\n",
    "            prev, nxt = s.iat[i-1], s.iat[i+1]\n",
    "            if not pd.isna(prev) and not pd.isna(nxt):\n",
    "                s.iat[i] = (prev + nxt) / 2\n",
    "    return s\n",
    "\n",
    "prices_clean = prices_filt.apply(fill_iso, axis=0)\n",
    "prices_clean = prices_clean.dropna(axis=1)  # drop any remaining columns with NaNs\n",
    "\n",
    "# 4) Save\n",
    "prices_clean.to_csv(\"data/sp500_prices_clean.csv\")\n",
    "print(\"Cleaned data saved with shape:\", prices_clean.shape)\n"
   ]
  },
  {
   "cell_type": "code",
   "execution_count": 3,
   "id": "1460e8ee",
   "metadata": {},
   "outputs": [
    {
     "data": {
      "text/html": [
       "<div>\n",
       "<style scoped>\n",
       "    .dataframe tbody tr th:only-of-type {\n",
       "        vertical-align: middle;\n",
       "    }\n",
       "\n",
       "    .dataframe tbody tr th {\n",
       "        vertical-align: top;\n",
       "    }\n",
       "\n",
       "    .dataframe thead th {\n",
       "        text-align: right;\n",
       "    }\n",
       "</style>\n",
       "<table border=\"1\" class=\"dataframe\">\n",
       "  <thead>\n",
       "    <tr style=\"text-align: right;\">\n",
       "      <th></th>\n",
       "      <th>mean</th>\n",
       "      <th>std</th>\n",
       "    </tr>\n",
       "  </thead>\n",
       "  <tbody>\n",
       "    <tr>\n",
       "      <th>A</th>\n",
       "      <td>-1.978440e-17</td>\n",
       "      <td>1.000199</td>\n",
       "    </tr>\n",
       "    <tr>\n",
       "      <th>AAPL</th>\n",
       "      <td>-1.399040e-16</td>\n",
       "      <td>1.000199</td>\n",
       "    </tr>\n",
       "    <tr>\n",
       "      <th>ABBV</th>\n",
       "      <td>9.185616e-18</td>\n",
       "      <td>1.000199</td>\n",
       "    </tr>\n",
       "    <tr>\n",
       "      <th>ABT</th>\n",
       "      <td>4.734125e-17</td>\n",
       "      <td>1.000199</td>\n",
       "    </tr>\n",
       "    <tr>\n",
       "      <th>ACGL</th>\n",
       "      <td>3.356283e-17</td>\n",
       "      <td>1.000199</td>\n",
       "    </tr>\n",
       "  </tbody>\n",
       "</table>\n",
       "</div>"
      ],
      "text/plain": [
       "              mean       std\n",
       "A    -1.978440e-17  1.000199\n",
       "AAPL -1.399040e-16  1.000199\n",
       "ABBV  9.185616e-18  1.000199\n",
       "ABT   4.734125e-17  1.000199\n",
       "ACGL  3.356283e-17  1.000199"
      ]
     },
     "metadata": {},
     "output_type": "display_data"
    },
    {
     "name": "stdout",
     "output_type": "stream",
     "text": [
      "Standardized returns matrix shape: (2514, 469)\n"
     ]
    }
   ],
   "source": [
    "\n",
    "\n",
    "# 1. Load cleaned price data\n",
    "prices_clean = pd.read_csv(\"data/sp500_prices_clean.csv\", index_col=0, parse_dates=True)\n",
    "\n",
    "# 2. Compute daily simple returns\n",
    "returns = prices_clean.pct_change().dropna()\n",
    "\n",
    "# 3. Standardize returns (zero mean, unit variance) across each ticker\n",
    "scaler = StandardScaler()\n",
    "returns_scaled_array = scaler.fit_transform(returns)\n",
    "returns_scaled = pd.DataFrame(\n",
    "    returns_scaled_array,\n",
    "    index=returns.index,\n",
    "    columns=returns.columns\n",
    ")\n",
    "\n",
    "# 4. Confirm zero mean and unit variance for a few tickers\n",
    "example_tickers = returns_scaled.columns[:5]\n",
    "summary_scaled = returns_scaled[example_tickers].describe().T[['mean', 'std']]\n",
    "display(summary_scaled)\n",
    "\n",
    "# 5. Check overall shape\n",
    "print(\"Standardized returns matrix shape:\", returns_scaled.shape)\n"
   ]
  }
 ],
 "metadata": {
  "kernelspec": {
   "display_name": "base",
   "language": "python",
   "name": "python3"
  },
  "language_info": {
   "codemirror_mode": {
    "name": "ipython",
    "version": 3
   },
   "file_extension": ".py",
   "mimetype": "text/x-python",
   "name": "python",
   "nbconvert_exporter": "python",
   "pygments_lexer": "ipython3",
   "version": "3.11.7"
  }
 },
 "nbformat": 4,
 "nbformat_minor": 5
}
