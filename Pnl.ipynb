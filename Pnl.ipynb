{
 "cells": [
  {
   "cell_type": "code",
   "execution_count": null,
   "metadata": {},
   "outputs": [
    {
     "name": "stdout",
     "output_type": "stream",
     "text": [
      "Annualized Return   : 9.7368\n",
      "Annualized Volatility: 4.8337\n",
      "Sharpe Ratio        : 2.0144\n",
      "Max Drawdown        : -1.4640\n",
      "Calmar Ratio        : 6.6510\n"
     ]
    }
   ],
   "source": [
    "import pandas as pd\n",
    "import numpy as np\n",
    "\n",
    "# 1) Load raw net P&L\n",
    "net_pnl = pd.read_csv(\"Output/net_pnl.csv\", index_col=0, parse_dates=True)[\"net_pnl\"]\n",
    "\n",
    "# 2) Normalize to per‐pair returns\n",
    "num_pairs     = 144\n",
    "daily_rets    = (net_pnl / num_pairs).rename(\"daily_returns\")\n",
    "\n",
    "# 3) Linear annualized return & volatility\n",
    "avg_daily_ret = daily_rets.mean()\n",
    "annual_return = avg_daily_ret * 252\n",
    "\n",
    "daily_vol     = daily_rets.std()\n",
    "annual_vol    = daily_vol * np.sqrt(252)\n",
    "\n",
    "# 4) Sharpe ratio\n",
    "sharpe_ratio  = annual_return / annual_vol if annual_vol != 0 else np.nan\n",
    "\n",
    "# 5) Drawdown on normalized equity\n",
    "equity        = (1 + daily_rets).cumprod()\n",
    "drawdown      = (equity / equity.cummax()) - 1\n",
    "max_drawdown  = drawdown.min()\n",
    "\n",
    "# 6) Calmar ratio\n",
    "calmar_ratio  = annual_return / abs(max_drawdown) if max_drawdown != 0 else np.nan\n",
    "\n",
    "# 7) Print\n",
    "print(f\"Annualized Return   : {annual_return:.4f}\")\n",
    "print(f\"Annualized Volatility: {annual_vol:.4f}\")\n",
    "print(f\"Sharpe Ratio        : {sharpe_ratio:.4f}\")\n",
    "print(f\"Max Drawdown        : {max_drawdown:.4f}\")\n",
    "print(f\"Calmar Ratio        : {calmar_ratio:.4f}\")\n"
   ]
  }
 ],
 "metadata": {
  "kernelspec": {
   "display_name": "base",
   "language": "python",
   "name": "python3"
  },
  "language_info": {
   "codemirror_mode": {
    "name": "ipython",
    "version": 3
   },
   "file_extension": ".py",
   "mimetype": "text/x-python",
   "name": "python",
   "nbconvert_exporter": "python",
   "pygments_lexer": "ipython3",
   "version": "3.11.7"
  }
 },
 "nbformat": 4,
 "nbformat_minor": 2
}
